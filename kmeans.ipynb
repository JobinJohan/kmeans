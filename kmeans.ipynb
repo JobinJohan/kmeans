{
 "cells": [
  {
   "cell_type": "code",
   "execution_count": 4,
   "metadata": {
    "scrolled": false
   },
   "outputs": [
    {
     "name": "stdout",
     "output_type": "stream",
     "text": [
      "test\n",
      "test\n",
      "test\n",
      "test\n",
      "test\n",
      "test\n",
      "test\n",
      "test\n",
      "test\n",
      "test\n"
     ]
    },
    {
     "data": {
      "image/png": "[encoded data removed]",
      "text/plain": [
       "<Figure size 432x288 with 1 Axes>"
      ]
     },
     "metadata": {
      "needs_background": "light"
     },
     "output_type": "display_data"
    },
    {
     "data": {
      "image/png": "[encoded data removed]",
      "text/plain": [
       "<Figure size 432x288 with 1 Axes>"
      ]
     },
     "metadata": {
      "needs_background": "light"
     },
     "output_type": "display_data"
    },
    {
     "data": {
      "image/png": "[encoded data removed]",
      "text/plain": [
       "<Figure size 432x288 with 1 Axes>"
      ]
     },
     "metadata": {
      "needs_background": "light"
     },
     "output_type": "display_data"
    },
    {
     "data": {
      "image/png": "[encoded data removed]",
      "text/plain": [
       "<Figure size 432x288 with 1 Axes>"
      ]
     },
     "metadata": {
      "needs_background": "light"
     },
     "output_type": "display_data"
    },
    {
     "data": {
      "image/png": "[encoded data removed]",
      "text/plain": [
       "<Figure size 432x288 with 1 Axes>"
      ]
     },
     "metadata": {
      "needs_background": "light"
     },
     "output_type": "display_data"
    },
    {
     "data": {
      "image/png": "[encoded data removed]",
      "text/plain": [
       "<Figure size 432x288 with 1 Axes>"
      ]
     },
     "metadata": {
      "needs_background": "light"
     },
     "output_type": "display_data"
    },
    {
     "data": {
      "image/png": "[encoded data removed]",
      "text/plain": [
       "<Figure size 432x288 with 1 Axes>"
      ]
     },
     "metadata": {
      "needs_background": "light"
     },
     "output_type": "display_data"
    },
    {
     "data": {
      "image/png": "[encoded data removed]",
      "text/plain": [
       "<Figure size 432x288 with 1 Axes>"
      ]
     },
     "metadata": {
      "needs_background": "light"
     },
     "output_type": "display_data"
    },
    {
     "data": {
      "image/png": "[encoded data removed]",
      "text/plain": [
       "<Figure size 432x288 with 1 Axes>"
      ]
     },
     "metadata": {
      "needs_background": "light"
     },
     "output_type": "display_data"
    },
    {
     "data": {
      "image/png": "[encoded data removed]",
      "text/plain": [
       "<Figure size 432x288 with 1 Axes>"
      ]
     },
     "metadata": {
      "needs_background": "light"
     },
     "output_type": "display_data"
    }
   ],
   "source": [
    "import random\n",
    "from pprint import pprint\n",
    "from base64 import b64decode\n",
    "from json import loads\n",
    "import numpy as np\n",
    "import matplotlib.pyplot as plt\n",
    "%matplotlib inline\n",
    "\n",
    "\n",
    "\n",
    "def display_digit(digit):\n",
    "    \"\"\" \n",
    "    graphically displays a 784x1 vector, representing a digit\n",
    "    \"\"\"\n",
    "    image = digit\n",
    "    plt.figure()\n",
    "    fig = plt.imshow(image.reshape(28,28))\n",
    "    fig.set_cmap('gray_r')\n",
    "    fig.axes.get_xaxis().set_visible(False)\n",
    "    fig.axes.get_yaxis().set_visible(False)\n",
    "\n",
    "\n",
    "def initKRandomCentroids(k, trainingSet):\n",
    "    randomDigit=[]\n",
    "    for i in range(0,k):\n",
    "        centroid = random.randint(0, len(trainingSet))\n",
    "        randomDigit.append(centroid)\n",
    "    return randomDigit\n",
    "\n",
    "def newCentroid(dictionary, arrayOfCentroids):\n",
    "    i=0\n",
    "    for indexCentroid, digits in dictionary.items():\n",
    "        newCentroid = np.mean(digits, axis=0)\n",
    "        arrayOfCentroids[i]= newCentroid\n",
    "        i+=1\n",
    "        \n",
    "        \n",
    "\n",
    "def kmeans(initCentroids, trainSet):\n",
    "    centroidsDigit=[]\n",
    "    clusters = {}\n",
    "    z=0\n",
    "    for i in range(0, len(initCentroids)):\n",
    "        centroidsDigit.append(trainSet[initCentroids[i]])\n",
    "        clusters[i]=[]\n",
    "    while z<50:\n",
    "        z+=1\n",
    "        for digit in trainSet:\n",
    "            distRef = float('inf')\n",
    "            indexRef = float('inf')\n",
    "            for indexCentroid, centroid in enumerate(centroidsDigit):\n",
    "                #euclidian distance\n",
    "                computedDistance = np.linalg.norm(digit - centroid)\n",
    "                if computedDistance < distRef:\n",
    "                    distRef = computedDistance\n",
    "                    indexRef = indexCentroid\n",
    "            clusters[indexRef].append(digit)\n",
    "        newCentroid(clusters, centroidsDigit)\n",
    "        \n",
    "    for digit in centroidsDigit:\n",
    "            print(\"test\")\n",
    "            display_digit(digit)\n",
    "    \n",
    "            \n",
    "            \n",
    "            \n",
    "        \n",
    "    \n",
    "    \n",
    "        \n",
    "\n",
    "trainSet = np.genfromtxt(\"train.csv\", delimiter=\",\")\n",
    "#keep all rows but skip column 1\n",
    "trainSet = trainSet[:, 1:]\n",
    "trainLabels = np.genfromtxt(\"train.csv\", delimiter=\",\", usecols=(0), dtype=int)\n",
    "initialCentroids = initKRandomCentroids(10, trainSet)\n",
    "\n",
    "kmeans(initialCentroids, trainSet)\n"
   ]
  }
 ],
 "metadata": {
  "kernelspec": {
   "display_name": "Python 3",
   "language": "python",
   "name": "python3"
  },
  "language_info": {
   "codemirror_mode": {
    "name": "ipython",
    "version": 3
   },
   "file_extension": ".py",
   "mimetype": "text/x-python",
   "name": "python",
   "nbconvert_exporter": "python",
   "pygments_lexer": "ipython3",
   "version": "3.7.1"
  }
 },
 "nbformat": 4,
 "nbformat_minor": 2
}
